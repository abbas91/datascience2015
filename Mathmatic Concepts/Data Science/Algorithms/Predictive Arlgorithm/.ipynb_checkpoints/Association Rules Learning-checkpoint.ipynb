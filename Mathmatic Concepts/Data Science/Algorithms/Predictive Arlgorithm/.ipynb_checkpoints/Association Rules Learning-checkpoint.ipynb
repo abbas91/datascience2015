{
 "cells": [
  {
   "cell_type": "markdown",
   "metadata": {},
   "source": [
    "# Association Rules Learning\n",
    "Association rule learning is a rule-based machine learning method for discovering interesting relations between variables in large databases. It is intended to identify strong rules discovered in databases using some measures of interestingness. Mining Frequent Itemsets (MFI)"
   ]
  },
  {
   "cell_type": "markdown",
   "metadata": {
    "collapsed": true
   },
   "source": [
    "### Models Pros & Cons\n",
    "----------------------------------------------------------------------------------------------------------------------\n",
    "#### Apriori\n",
    "Pros: The Apriori Algorithm calculates more sets of frequent items; \n",
    "\n",
    "Cons: The candidate generation could be extremely slow (pairs, triplets, etc.); The candidate generation could generate duplicates depending on the implementation.; The counting method iterates through all of the transactions each time.; Constant items make the algorithm a lot heavier.; Huge memory consumption; \n",
    "\n",
    "#### FP-Growth\n",
    "Pros: Very Scalable compare to 'Apriori';\n",
    "\n",
    "Cons:\n",
    "\n",
    "\n",
    "----------------------------------------------------------------------------------------------------------------------\n",
    "\n",
    "\n"
   ]
  },
  {
   "cell_type": "markdown",
   "metadata": {},
   "source": [
    "## --------------------- Apriori"
   ]
  },
  {
   "cell_type": "markdown",
   "metadata": {},
   "source": [
    "#### Wiki Definitation: \n",
    "Apriori is an algorithm for frequent item set mining and association rule learning over transactional databases. It proceeds by identifying the frequent individual items in the database and extending them to larger and larger item sets as long as those item sets appear sufficiently often in the database. The frequent item sets determined by Apriori can be used to determine association rules which highlight general trends in the database: this has applications in domains such as market basket analysis.\n",
    "\n",
    "The Apriori algorithm is based on the fact that if a subset S appears k times, any other subset S' that contains S will appear k times or less. So, if S doesn't pass the minimum support threshold, neither does S'. There is no need to calculate S', it is discarded a priori.\n",
    "\n",
    "#### Input Data: \n",
    "X(Numeric)/X(Categorical) - row: transaction | column: item\n",
    "#### Initial Parameters: \n",
    "Minimal Support Count (minimal counts of cases in iteration process) ex. = 2\n",
    "\n",
    "Minimum confidence threshold (When define the association rules) ex. = 60%\n",
    "#### Cost Function: \n",
    "Filter in iteration -> calculate confidence by frequency\n",
    "#### Process Flow: \n",
    "https://www.youtube.com/watch?v=-5Uia2a5jxc&t=303s\n",
    "\n",
    "Candidate Generation Process - \n",
    "iter1: List all unique items (total 1 item) with counts of transaction and remove those less than minimal support counts -> iter2: For each remain item, add one other item (totally 2 items) and count the number of transaction and remove those not meet the minimal support count -> iter3: .... add one item (totally 3 items) ...... -> iter n: can't generate list of item (no transaction contain n items) = stop\n",
    "\n",
    "Rule development process - \n",
    "\n",
    "For each combination in the remianing list, for example, {1,3,5} - all non-empty set = {1}, {5}, {3}, {1,3}, {3,5}, {1,5}\n",
    "\n",
    "If people purchased 1 & 3, what to 5?\n",
    "\n",
    "R1: In database, 60 contains {1,3,5} and 100 contains {1,3} = 60% confidence recommend 5 given 1 & 3 purchased \n",
    "\n",
    "R2: ..........................................................30% .................... 3 ..... 5 & 1 .........\n",
    "\n",
    "...\n",
    "\n",
    "Rn: \n",
    "\n",
    "#### Evaluation Methods: \n",
    "\n",
    "#### Tips: \n",
    "\n"
   ]
  },
  {
   "cell_type": "code",
   "execution_count": null,
   "metadata": {
    "collapsed": true
   },
   "outputs": [],
   "source": [
    "# -------------------- R\n",
    "# - other code\n",
    "# https://www.r-bloggers.com/implementing-apriori-algorithm-in-r/\n",
    "# - this code\n",
    "# https://www.r-bloggers.com/association-rule-learning-and-the-apriori-algorithm/\n",
    "\n",
    "library(\"arules\");\n",
    "library(\"arulesViz\");\n",
    "\n",
    "# Generate dataset\n",
    "patterns = random.patterns(nItems = 1000);\n",
    "summary(patterns);\n",
    "trans = random.transactions(nItems = 1000, nTrans = 1000, method = \"agrawal\",  patterns = patterns);\n",
    "image(trans);\n",
    "\n",
    "# Or \n",
    "data(\"AdultUCI\");\n",
    "Adult = as(AdultUCI, \"transactions\");\n",
    "rules = apriori(Adult, parameter=list(support=0.01, confidence=0.5));\n",
    "rules;\n",
    "\"\"\"\n",
    "Once the rules have been created a researcher can then review and filter the rules down to a manageable subset.  \n",
    "This can be done a variety of ways using both graphs and by simply inspecting the rules.\n",
    "\"\"\"\n",
    "# Visual\n",
    "inspect(head(sort(rules, by=\"lift\"),3));\n",
    "plot(rules);\n",
    "head(quality(rules));\n",
    "plot(rules, measure=c(\"support\",\"lift\"), shading=\"confidence\");\n",
    "plot(rules, shading=\"order\", control=list(main =\"Two-key plot\"));\n",
    "\n",
    "# Visual2\n",
    "sel = plot(rules, measure=c(\"support\",\"lift\"), shading=\"confidence\", interactive=TRUE);\n",
    "subrules = rules[quality(rules)$confidence > 0.8];\n",
    "subrules\n",
    "\n",
    "# Visual3\n",
    "plot(subrules, method=\"matrix\", measure=\"lift\");\n",
    "plot(subrules, method=\"matrix\", measure=\"lift\", control=list(reorder=TRUE));\n",
    "plot(subrules, method=\"matrix3D\", measure=\"lift\");\n",
    "plot(subrules, method=\"matrix3D\", measure=\"lift\", control = list(reorder=TRUE));\n",
    "plot(subrules, method=\"matrix\", measure=c(\"lift\", \"confidence\"));\n",
    "plot(subrules, method=\"matrix\", measure=c(\"lift\",\"confidence\"), control = list(reorder=TRUE));\n",
    "plot(rules, method=\"grouped\");\n",
    "plot(rules, method=\"grouped\", control=list(k=50));\n",
    "sel = plot(rules, method=\"grouped\", interactive=TRUE);\n",
    "\n"
   ]
  },
  {
   "cell_type": "code",
   "execution_count": null,
   "metadata": {
    "collapsed": true
   },
   "outputs": [],
   "source": [
    "# -------------------- Python\n",
    "# - other code\n",
    "# https://github.com/asaini/Apriori\n",
    "\n",
    "# https://pypi.python.org/pypi/apyori/1.1.1\n",
    "\n",
    "from apyori import apriori\n",
    "\n",
    "transactions = [\n",
    "    ['beer', 'nuts'],\n",
    "    ['beer', 'cheese'],\n",
    "]\n",
    "results = list(apriori(transactions))"
   ]
  },
  {
   "cell_type": "markdown",
   "metadata": {},
   "source": [
    "## --------------------- FP-Growth"
   ]
  },
  {
   "cell_type": "markdown",
   "metadata": {},
   "source": []
  },
  {
   "cell_type": "code",
   "execution_count": null,
   "metadata": {
    "collapsed": true
   },
   "outputs": [],
   "source": []
  },
  {
   "cell_type": "code",
   "execution_count": null,
   "metadata": {
    "collapsed": true
   },
   "outputs": [],
   "source": []
  },
  {
   "cell_type": "markdown",
   "metadata": {},
   "source": [
    "## --------------------- xxxxxx"
   ]
  },
  {
   "cell_type": "markdown",
   "metadata": {},
   "source": []
  },
  {
   "cell_type": "code",
   "execution_count": null,
   "metadata": {
    "collapsed": true
   },
   "outputs": [],
   "source": []
  },
  {
   "cell_type": "code",
   "execution_count": null,
   "metadata": {
    "collapsed": true
   },
   "outputs": [],
   "source": []
  },
  {
   "cell_type": "code",
   "execution_count": null,
   "metadata": {
    "collapsed": true
   },
   "outputs": [],
   "source": []
  },
  {
   "cell_type": "code",
   "execution_count": null,
   "metadata": {
    "collapsed": true
   },
   "outputs": [],
   "source": []
  },
  {
   "cell_type": "markdown",
   "metadata": {},
   "source": [
    "----------------------------------------------------------------------------------------------------------------------\n",
    "\n",
    "# Evaluation Methods"
   ]
  },
  {
   "cell_type": "code",
   "execution_count": null,
   "metadata": {
    "collapsed": true
   },
   "outputs": [],
   "source": []
  }
 ],
 "metadata": {
  "anaconda-cloud": {},
  "kernelspec": {
   "display_name": "Python [conda root]",
   "language": "python",
   "name": "conda-root-py"
  },
  "language_info": {
   "codemirror_mode": {
    "name": "ipython",
    "version": 2
   },
   "file_extension": ".py",
   "mimetype": "text/x-python",
   "name": "python",
   "nbconvert_exporter": "python",
   "pygments_lexer": "ipython2",
   "version": "2.7.12"
  }
 },
 "nbformat": 4,
 "nbformat_minor": 1
}
