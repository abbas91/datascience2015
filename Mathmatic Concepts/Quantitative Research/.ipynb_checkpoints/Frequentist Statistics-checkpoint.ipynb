{
 "cells": [
  {
   "cell_type": "markdown",
   "metadata": {},
   "source": [
    "# Frequentist Statistics"
   ]
  },
  {
   "cell_type": "markdown",
   "metadata": {
    "collapsed": true
   },
   "source": [
    "## [1] Descriptive Statistics"
   ]
  },
  {
   "cell_type": "markdown",
   "metadata": {
    "collapsed": true
   },
   "source": [
    "### Level of measurement\n",
    "- Nominal data: A, B, C\n",
    "- Ordinal data: 1, 2, 3\n",
    "- Interval data: 12, 16, 87\n",
    "- Ratio data: 1.2, 0.3, 1.9\n",
    "\n",
    "### Measure of central tendency\n",
    "- Mode, Mean, Median (Centrality)\n",
    "- Range, Inter-quantile range (Disparity)\n",
    "- Variance, Standard Deviation (Variability)\n",
    "- Z-score [x - mean(x)] / SD (Outlier)\n",
    "- Standrad Normal Distribution 68%[1s], 95%[2s], 99%[3s]\n",
    "\n",
    "### Correlation\n",
    "- Pearson's Correlation [sum(Zx * Zy) / n - 1\n",
    "- Spearman Correlation\n",
    "- Weak, Strong, Positive, Negative, Linear, Non-Linear\n"
   ]
  },
  {
   "cell_type": "code",
   "execution_count": null,
   "metadata": {
    "collapsed": true
   },
   "outputs": [],
   "source": []
  },
  {
   "cell_type": "markdown",
   "metadata": {},
   "source": [
    "# Inferencial Statistics"
   ]
  },
  {
   "cell_type": "markdown",
   "metadata": {},
   "source": [
    "## --- Ac-hoc Tests"
   ]
  },
  {
   "cell_type": "markdown",
   "metadata": {
    "collapsed": true
   },
   "source": [
    "### (1) Test for randomness - Run Test\n",
    "xxxxxxxxxxxxxxxxx"
   ]
  },
  {
   "cell_type": "code",
   "execution_count": null,
   "metadata": {
    "collapsed": true
   },
   "outputs": [],
   "source": [
    "# ---------------- R\n",
    "# Numeric Vector\n",
    "Install.packages(\"randtests\")\n",
    "Library(randtests)\n",
    "earthden <- c(5.36, 5.29, 5.58, 5.65, 5.57, 5.53, 5.62, 5.29, 5.44, 5.34, 5.79,\n",
    "5.10, 5.27, 5.39, 5.42, 5.47, 5.63, 5.34, 5.46, 5.30, 5.75, 5.68, 5.85)\n",
    "runs.test(earthden)\n",
    "\n",
    "# Binary Vector\n",
    "Install.packages(\"tseries\")\n",
    "Library(tseries)\n",
    "x <- factor(sign(rnorm(100)))  # randomness\n",
    "runs.test(x)\n"
   ]
  },
  {
   "cell_type": "code",
   "execution_count": null,
   "metadata": {
    "collapsed": true
   },
   "outputs": [],
   "source": [
    "# ---------------- Python"
   ]
  },
  {
   "cell_type": "markdown",
   "metadata": {},
   "source": [
    "## --- Numeric Variables"
   ]
  },
  {
   "cell_type": "markdown",
   "metadata": {},
   "source": [
    "### One-Sample T Test"
   ]
  },
  {
   "cell_type": "code",
   "execution_count": null,
   "metadata": {
    "collapsed": true
   },
   "outputs": [],
   "source": [
    "# ----------- R\n",
    "\n",
    "# One-tail:\n",
    "a = c(65, 78, 88, 55, 48, 95, 66, 57, 79, 81)\n",
    "t.test (a, mu=75, alternative=”less”)\n",
    "t.test (a, mu=75, alternative=”greater”)\n",
    "\n",
    "# Two-tail:\n",
    "a = c(65, 78, 88, 55, 48, 95, 66, 57, 79, 81)\n",
    "t.test (a, mu=75)\n",
    "\n",
    "# Non-parametric Alternative – The Sign Test \n",
    "library(BSDA)\n",
    "data=c(55, 58, 61, 61, 62, 62, 62, 63, 63, 64, 66, 68, 68, 69, 69, 69, 70, 71, 72, 72)\n",
    "SIGN.test(x, md = 0, alternative = \"two.sided\", conf.level = 0.95)\n",
    "SIGN.test(data, conf.level=0.90)\n",
    "\n",
    "# Non-parametric Alternative – Wilcoxon Signed Ranks Test\n",
    "a <- c(214, 159, 169, 202, 103, 119, 200, 109, 132, 142, 194, 104, 219, 119, 234)\n",
    "b <- c(159, 135, 141, 101, 102, 168, 62, 167, 174, 159, 66, 118, 181, 171, 112)\n",
    "wilcox.test(a,b, paired=TRUE)"
   ]
  },
  {
   "cell_type": "code",
   "execution_count": null,
   "metadata": {
    "collapsed": true
   },
   "outputs": [],
   "source": [
    "# ----------- Python"
   ]
  },
  {
   "cell_type": "markdown",
   "metadata": {},
   "source": [
    "### One-Sample Z Test"
   ]
  },
  {
   "cell_type": "code",
   "execution_count": null,
   "metadata": {
    "collapsed": true
   },
   "outputs": [],
   "source": [
    "# ----------- R\n",
    "\n",
    "# One-tail:\n",
    "install.packages(\"TeachingDemos\")\n",
    "library(TeachingDemos)  \n",
    "x <- rnorm(12)\n",
    "z.test(x,sigma.x=1, alternative=”less” )\n",
    "z.test(x,sigma.x=1, alternative=”greater” )\n",
    "\n",
    "# Two-tail:\n",
    "install.packages(\"TeachingDemos\")\n",
    "library(TeachingDemos)  \n",
    "x <- rnorm(12)\n",
    "z.test(x,sigma.x=1)\n"
   ]
  },
  {
   "cell_type": "code",
   "execution_count": null,
   "metadata": {
    "collapsed": true
   },
   "outputs": [],
   "source": [
    "# ----------- Python"
   ]
  },
  {
   "cell_type": "markdown",
   "metadata": {},
   "source": [
    "### Two Sample T Test"
   ]
  },
  {
   "cell_type": "code",
   "execution_count": null,
   "metadata": {
    "collapsed": true
   },
   "outputs": [],
   "source": [
    "# ------------ R\n",
    "\n",
    "# Independent T test\n",
    "# One-tail:\n",
    "a = c(65, 78, 88, 55, 48, 95, 66, 57, 79, 81)\n",
    "b = c(65, 78, 88, 55, 48, 95, 66, 57, 79, 81)\n",
    "t.test (a,b, mu=75, paired=False, alternative=”less”)\n",
    "t.test (a,b, mu=75, paired=False, alternative=”greater”)\n",
    "# Two-tail:\n",
    "a = c(65, 78, 88, 55, 48, 95, 66, 57, 79, 81)\n",
    "b = c(65, 78, 88, 55, 48, 95, 66, 57, 79, 81)\n",
    "t.test (a,b, mu=75, paired=False)\n",
    "\n",
    "# Dependent T test\n",
    "# One-tail:\n",
    "a = c(65, 78, 88, 55, 48, 95, 66, 57, 79, 81)\n",
    "b = c(65, 78, 88, 55, 48, 95, 66, 57, 79, 81)\n",
    "t.test (a,b, mu=75, paired=True, alternative=”less”)\n",
    "t.test (a,b, mu=75, paired=True, alternative=”greater”)\n",
    "# Two-tail:\n",
    "a = c(65, 78, 88, 55, 48, 95, 66, 57, 79, 81)\n",
    "b = c(65, 78, 88, 55, 48, 95, 66, 57, 79, 81)\n",
    "t.test (a,b, mu=75, paired=True)\n",
    "\n",
    "# Non-parametric Alternative – Wilcoxon Test"
   ]
  },
  {
   "cell_type": "code",
   "execution_count": null,
   "metadata": {
    "collapsed": true
   },
   "outputs": [],
   "source": [
    "# ------------ Python"
   ]
  },
  {
   "cell_type": "markdown",
   "metadata": {},
   "source": [
    "### Two Sample Z Test"
   ]
  },
  {
   "cell_type": "code",
   "execution_count": null,
   "metadata": {
    "collapsed": true
   },
   "outputs": [],
   "source": [
    "# ------------ R\n",
    "\n",
    "# Independent Z test\n",
    "# One-tail:\n",
    "install.packages(\"TeachingDemos\")\n",
    "library(TeachingDemos)  \n",
    "a = c(65, 78, 88, 55, 48, 95, 66, 57, 79, 81)\n",
    "b = c(65, 78, 88, 55, 48, 95, 66, 57, 79, 81)\n",
    "z.test (a,b, mu=75, paired=False, alternative=”less”)\n",
    "z.test (a,b, mu=75, paired=False, alternative=”greater”)\n",
    "# Two-tail:\n",
    "install.packages(\"TeachingDemos\")\n",
    "library(TeachingDemos)  \n",
    "a = c(65, 78, 88, 55, 48, 95, 66, 57, 79, 81)\n",
    "b = c(65, 78, 88, 55, 48, 95, 66, 57, 79, 81)\n",
    "z.test (a,b, mu=75, paired=False)\n",
    "\n",
    "# Dependent Z test\n",
    "# One-tail:\n",
    "install.packages(\"TeachingDemos\")\n",
    "library(TeachingDemos)  \n",
    "a = c(65, 78, 88, 55, 48, 95, 66, 57, 79, 81)\n",
    "b = c(65, 78, 88, 55, 48, 95, 66, 57, 79, 81)\n",
    "z.test (a,b, mu=75, paired=True, alternative=”less”)\n",
    "z.test (a,b, mu=75, paired=True, alternative=”greater”)\n",
    "# Two-tail:\n",
    "install.packages(\"TeachingDemos\")\n",
    "library(TeachingDemos)  \n",
    "a = c(65, 78, 88, 55, 48, 95, 66, 57, 79, 81)\n",
    "b = c(65, 78, 88, 55, 48, 95, 66, 57, 79, 81)\n",
    "z.test (a,b, mu=75, paired=True)\n"
   ]
  },
  {
   "cell_type": "markdown",
   "metadata": {
    "collapsed": true
   },
   "source": [
    "### Power Analysis"
   ]
  },
  {
   "cell_type": "markdown",
   "metadata": {},
   "source": [
    "##### The following four quantities have an intimate relationship:\n",
    "\n",
    "- sample size\n",
    "- effect size\n",
    "- significance level = P(Type I error) = probability of finding an effect that is not there\n",
    "- power = 1 - P(Type II error) = probability of finding an effect that is there\n",
    "\n",
    "##### Given any three, we can determine the fourth."
   ]
  },
  {
   "cell_type": "code",
   "execution_count": null,
   "metadata": {
    "collapsed": true
   },
   "outputs": [],
   "source": [
    "# --------------------- R\n",
    "# http://www.statmethods.net/stats/power.html\n",
    "\n",
    "# function      power calculations for\n",
    "\n",
    "# pwr.2p.test\ttwo proportions (equal n)\n",
    "# pwr.2p2n.test\ttwo proportions (unequal n)\n",
    "# pwr.anova.test\tbalanced one way ANOVA\n",
    "# pwr.chisq.test\tchi-square test\n",
    "# pwr.f2.test\tgeneral linear model\n",
    "# pwr.p.test\tproportion (one sample)\n",
    "# pwr.r.test\tcorrelation\n",
    "# pwr.t.test\tt-tests (one sample, 2 sample, paired)\n",
    "# pwr.t2n.test\tt-test (two samples with unequal n)\n"
   ]
  },
  {
   "cell_type": "code",
   "execution_count": null,
   "metadata": {
    "collapsed": true
   },
   "outputs": [],
   "source": []
  },
  {
   "cell_type": "code",
   "execution_count": null,
   "metadata": {
    "collapsed": true
   },
   "outputs": [],
   "source": []
  },
  {
   "cell_type": "markdown",
   "metadata": {},
   "source": [
    "## --- Categorical Variables"
   ]
  },
  {
   "cell_type": "markdown",
   "metadata": {},
   "source": [
    "### Chi-Squared Test"
   ]
  },
  {
   "cell_type": "code",
   "execution_count": null,
   "metadata": {
    "collapsed": true
   },
   "outputs": [],
   "source": [
    "# --------------- R\n",
    "\n",
    "# Test for association (Independence test)\n",
    "contingence.table <- table(cate_var1, cate_var2) # create contingence table\n",
    "chisq.test(contingence.table)\n",
    "\n",
    "# Test for Goodness-of-fit (distribution similarity)\n",
    "# https://www.r-bloggers.com/goodness-of-fit-test-in-r/\n",
    "\n",
    "# --- Generate test dist\n",
    "num_of_samples = 1000\n",
    "x <- rgamma(num_of_samples, shape = 10, scale = 3)\n",
    "x <- x + rnorm(length(x), mean=0, sd = .1)\n",
    "p1 <- hist(x,breaks=50, include.lowest=FALSE, right=FALSE)\n",
    "\n",
    "# --- Generate hypothesis dist\n",
    "library('zoo')\n",
    "breaks_cdf <- pgamma(p1$breaks, shape=10, scale=3)\n",
    "null.probs <- rollapply(breaks_cdf, 2, function(x) x[2]-x[1])\n",
    "\n",
    "# --- Chi-test\n",
    "a <- chisq.test(p1$counts, p=null.probs, rescale.p=TRUE, simulate.p.value=TRUE)\n",
    "\n",
    "# Alternative test for small size data - Fisher’s Exact test\n"
   ]
  },
  {
   "cell_type": "markdown",
   "metadata": {},
   "source": [
    "### Kolmogorov-Smirnov test"
   ]
  },
  {
   "cell_type": "code",
   "execution_count": null,
   "metadata": {
    "collapsed": true
   },
   "outputs": [],
   "source": [
    "# ---------------- R\n",
    "\n",
    "# --- Generate test dist\n",
    "num_of_samples = 1000\n",
    "x <- rgamma(num_of_samples, shape = 10, scale = 3)\n",
    "x <- x + rnorm(length(x), mean=0, sd = .1)\n",
    "\n",
    "# -- Generate hypothesis dist\n",
    "num_of_samples = 100000\n",
    "y <- rgamma(num_of_samples, shape = 10, scale = 3)\n",
    "\n",
    "# --- KS-test\n",
    "result = ks.test(x, y)"
   ]
  },
  {
   "cell_type": "code",
   "execution_count": null,
   "metadata": {
    "collapsed": true
   },
   "outputs": [],
   "source": [
    "# ---------------- Python"
   ]
  },
  {
   "cell_type": "markdown",
   "metadata": {},
   "source": [
    "### Cramer-von Mises criterion"
   ]
  },
  {
   "cell_type": "code",
   "execution_count": null,
   "metadata": {
    "collapsed": true
   },
   "outputs": [],
   "source": [
    "# ----------------- R\n",
    "\n",
    "# --- Generate test dist\n",
    "num_of_samples = 1000\n",
    "x <- rgamma(num_of_samples, shape = 10, scale = 3)\n",
    "x <- x + rnorm(length(x), mean=0, sd = .1)\n",
    "\n",
    "# -- Generate hypothesis dist\n",
    "num_of_samples = 100000\n",
    "y <- rgamma(num_of_samples, shape = 10, scale = 3)\n",
    "\n",
    "# --- CM-test\n",
    "res <- CramerVonMisesTwoSamples(x,y)\n",
    "p-value = 1/6*exp(-res)"
   ]
  },
  {
   "cell_type": "code",
   "execution_count": null,
   "metadata": {
    "collapsed": true
   },
   "outputs": [],
   "source": [
    "# ---------------- Python"
   ]
  },
  {
   "cell_type": "markdown",
   "metadata": {},
   "source": [
    "## --- Numeric & Categorical Variables"
   ]
  },
  {
   "cell_type": "markdown",
   "metadata": {},
   "source": [
    "### Linear regression"
   ]
  },
  {
   "cell_type": "code",
   "execution_count": null,
   "metadata": {
    "collapsed": true
   },
   "outputs": [],
   "source": [
    "# -------------- R\n",
    "# Simple\n",
    "Simple.linear <- lm(Y ~ X, data = data)\n",
    "Summary(Simple.linear)\n",
    "# Multiple\n",
    "Simple.linear <- lm(Y ~ X1 + X2 + X3, data = data)\n",
    "Summary(Simple.linear)\n"
   ]
  },
  {
   "cell_type": "code",
   "execution_count": null,
   "metadata": {
    "collapsed": true
   },
   "outputs": [],
   "source": [
    "# --------------- Python"
   ]
  },
  {
   "cell_type": "markdown",
   "metadata": {},
   "source": [
    "### ANOVA (Analysis-of-variance)"
   ]
  },
  {
   "cell_type": "code",
   "execution_count": null,
   "metadata": {
    "collapsed": true
   },
   "outputs": [],
   "source": [
    "# ------------- R\n",
    "\n",
    "# One-way ANOVA\n",
    "# One Way Anova (Completely Randomized Design)\n",
    " fit <- aov(y ~ A, data=mydataframe)\n",
    "Non-parametric Alternative – Kruskal Wallis Test\n",
    "\n",
    "# Factorial ANOVA\n",
    "# Two Way Factorial Design\n",
    "fit <- aov(y ~ A*B, data=mydataframe)"
   ]
  },
  {
   "cell_type": "code",
   "execution_count": null,
   "metadata": {
    "collapsed": true
   },
   "outputs": [],
   "source": [
    "# ----------- Python"
   ]
  },
  {
   "cell_type": "markdown",
   "metadata": {},
   "source": [
    "### MANOVA"
   ]
  },
  {
   "cell_type": "code",
   "execution_count": null,
   "metadata": {
    "collapsed": true
   },
   "outputs": [],
   "source": [
    "# ----------- R\n",
    "# 2x2 Factorial MANOVA with 3 Dependent Variables. \n",
    "Y <- cbind(y1,y2,y3)\n",
    "fit <- manova(Y ~ A*B)\n",
    "summary(fit, test=\"Pillai\")"
   ]
  },
  {
   "cell_type": "code",
   "execution_count": null,
   "metadata": {
    "collapsed": true
   },
   "outputs": [],
   "source": [
    "# --------------- Python"
   ]
  },
  {
   "cell_type": "markdown",
   "metadata": {},
   "source": [
    "### ANCOVA"
   ]
  },
  {
   "cell_type": "code",
   "execution_count": null,
   "metadata": {
    "collapsed": true
   },
   "outputs": [],
   "source": [
    "# ---------- R\n",
    "# Analysis of Covariance \n",
    "fit <- aov(y ~ A + x, data=mydataframe)"
   ]
  },
  {
   "cell_type": "code",
   "execution_count": null,
   "metadata": {
    "collapsed": true
   },
   "outputs": [],
   "source": [
    "# --------------- Python"
   ]
  },
  {
   "cell_type": "markdown",
   "metadata": {},
   "source": [
    "### MANCOVA"
   ]
  },
  {
   "cell_type": "code",
   "execution_count": null,
   "metadata": {
    "collapsed": true
   },
   "outputs": [],
   "source": [
    "# ---------- R\n",
    "\n",
    "Y <- cbind(VAR1, VAR2, VAR3)\n",
    "fit <- manova(Y ~ GRP+age+gender)\n",
    "summary(fit, test=\"Pillai\") # Other test options are \"Wilks\", \"Hotelling-Lawley\", and \"Roy\".\n",
    "summary.aov(fit) # for univariate statistics."
   ]
  },
  {
   "cell_type": "code",
   "execution_count": null,
   "metadata": {
    "collapsed": true
   },
   "outputs": [],
   "source": [
    "# --------------- Python"
   ]
  },
  {
   "cell_type": "code",
   "execution_count": null,
   "metadata": {
    "collapsed": true
   },
   "outputs": [],
   "source": []
  }
 ],
 "metadata": {
  "anaconda-cloud": {},
  "kernelspec": {
   "display_name": "Python [conda root]",
   "language": "python",
   "name": "conda-root-py"
  },
  "language_info": {
   "codemirror_mode": {
    "name": "ipython",
    "version": 2
   },
   "file_extension": ".py",
   "mimetype": "text/x-python",
   "name": "python",
   "nbconvert_exporter": "python",
   "pygments_lexer": "ipython2",
   "version": "2.7.12"
  }
 },
 "nbformat": 4,
 "nbformat_minor": 1
}
